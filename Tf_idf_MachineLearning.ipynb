{
  "nbformat": 4,
  "nbformat_minor": 0,
  "metadata": {
    "colab": {
      "name": "Tf_idf_MachineLearning.ipynb",
      "provenance": [],
      "collapsed_sections": [],
      "machine_shape": "hm"
    },
    "kernelspec": {
      "name": "python3",
      "display_name": "Python 3"
    },
    "language_info": {
      "name": "python"
    },
    "accelerator": "GPU"
  },
  "cells": [
    {
      "cell_type": "code",
      "metadata": {
        "colab": {
          "base_uri": "https://localhost:8080/"
        },
        "id": "jKrX0JmS8x-O",
        "outputId": "33fdcfc1-681f-441b-f6d1-5d1bad77080b"
      },
      "source": [
        "from google.colab import drive\n",
        "drive.mount('/content/drive')"
      ],
      "execution_count": null,
      "outputs": [
        {
          "output_type": "stream",
          "name": "stdout",
          "text": [
            "Mounted at /content/drive\n"
          ]
        }
      ]
    },
    {
      "cell_type": "markdown",
      "metadata": {
        "id": "7n6dojyrk7WN"
      },
      "source": [
        "#***Import Libraries***"
      ]
    },
    {
      "cell_type": "code",
      "metadata": {
        "id": "XMy27J4Hk_nU"
      },
      "source": [
        "import pandas as pd\n",
        "import numpy as np"
      ],
      "execution_count": null,
      "outputs": []
    },
    {
      "cell_type": "markdown",
      "metadata": {
        "id": "IQnmG6927jJn"
      },
      "source": [
        "# *BASELINE*"
      ]
    },
    {
      "cell_type": "code",
      "metadata": {
        "id": "GSKPTRdkofq_"
      },
      "source": [
        "import pandas as pd\n",
        "train_df=pd.read_csv('/content/drive/MyDrive/Workspace/hasocpaper/trainset.csv')"
      ],
      "execution_count": null,
      "outputs": []
    },
    {
      "cell_type": "code",
      "metadata": {
        "id": "2QwcYuQG_K2l"
      },
      "source": [
        "train_df.dropna(inplace=True)"
      ],
      "execution_count": null,
      "outputs": []
    },
    {
      "cell_type": "code",
      "metadata": {
        "id": "u_KSNx_p_n0Y"
      },
      "source": [
        "test=pd.read_csv('/content/drive/MyDrive/Workspace/hasocpaper/testset.csv')"
      ],
      "execution_count": null,
      "outputs": []
    },
    {
      "cell_type": "code",
      "metadata": {
        "id": "uY-7UKDYD7Tz"
      },
      "source": [
        "test.dropna(inplace=True)"
      ],
      "execution_count": null,
      "outputs": []
    },
    {
      "cell_type": "code",
      "metadata": {
        "colab": {
          "base_uri": "https://localhost:8080/",
          "height": 297
        },
        "id": "xjO7whEhDILa",
        "outputId": "706841b6-e61e-49f8-b1ba-2258265a00d5"
      },
      "source": [
        "train_df.describe()"
      ],
      "execution_count": null,
      "outputs": [
        {
          "output_type": "execute_result",
          "data": {
            "text/html": [
              "<div>\n",
              "<style scoped>\n",
              "    .dataframe tbody tr th:only-of-type {\n",
              "        vertical-align: middle;\n",
              "    }\n",
              "\n",
              "    .dataframe tbody tr th {\n",
              "        vertical-align: top;\n",
              "    }\n",
              "\n",
              "    .dataframe thead th {\n",
              "        text-align: right;\n",
              "    }\n",
              "</style>\n",
              "<table border=\"1\" class=\"dataframe\">\n",
              "  <thead>\n",
              "    <tr style=\"text-align: right;\">\n",
              "      <th></th>\n",
              "      <th>label</th>\n",
              "    </tr>\n",
              "  </thead>\n",
              "  <tbody>\n",
              "    <tr>\n",
              "      <th>count</th>\n",
              "      <td>76578.000000</td>\n",
              "    </tr>\n",
              "    <tr>\n",
              "      <th>mean</th>\n",
              "      <td>0.532882</td>\n",
              "    </tr>\n",
              "    <tr>\n",
              "      <th>std</th>\n",
              "      <td>0.498921</td>\n",
              "    </tr>\n",
              "    <tr>\n",
              "      <th>min</th>\n",
              "      <td>0.000000</td>\n",
              "    </tr>\n",
              "    <tr>\n",
              "      <th>25%</th>\n",
              "      <td>0.000000</td>\n",
              "    </tr>\n",
              "    <tr>\n",
              "      <th>50%</th>\n",
              "      <td>1.000000</td>\n",
              "    </tr>\n",
              "    <tr>\n",
              "      <th>75%</th>\n",
              "      <td>1.000000</td>\n",
              "    </tr>\n",
              "    <tr>\n",
              "      <th>max</th>\n",
              "      <td>1.000000</td>\n",
              "    </tr>\n",
              "  </tbody>\n",
              "</table>\n",
              "</div>"
            ],
            "text/plain": [
              "              label\n",
              "count  76578.000000\n",
              "mean       0.532882\n",
              "std        0.498921\n",
              "min        0.000000\n",
              "25%        0.000000\n",
              "50%        1.000000\n",
              "75%        1.000000\n",
              "max        1.000000"
            ]
          },
          "metadata": {},
          "execution_count": 32
        }
      ]
    },
    {
      "cell_type": "code",
      "metadata": {
        "colab": {
          "base_uri": "https://localhost:8080/",
          "height": 297
        },
        "id": "X-RbUjSqDFcG",
        "outputId": "5d24048c-4740-4cc9-9a49-2c31652ae41c"
      },
      "source": [
        "test.describe()"
      ],
      "execution_count": null,
      "outputs": [
        {
          "output_type": "execute_result",
          "data": {
            "text/html": [
              "<div>\n",
              "<style scoped>\n",
              "    .dataframe tbody tr th:only-of-type {\n",
              "        vertical-align: middle;\n",
              "    }\n",
              "\n",
              "    .dataframe tbody tr th {\n",
              "        vertical-align: top;\n",
              "    }\n",
              "\n",
              "    .dataframe thead th {\n",
              "        text-align: right;\n",
              "    }\n",
              "</style>\n",
              "<table border=\"1\" class=\"dataframe\">\n",
              "  <thead>\n",
              "    <tr style=\"text-align: right;\">\n",
              "      <th></th>\n",
              "      <th>label</th>\n",
              "    </tr>\n",
              "  </thead>\n",
              "  <tbody>\n",
              "    <tr>\n",
              "      <th>count</th>\n",
              "      <td>1280.000000</td>\n",
              "    </tr>\n",
              "    <tr>\n",
              "      <th>mean</th>\n",
              "      <td>0.623437</td>\n",
              "    </tr>\n",
              "    <tr>\n",
              "      <th>std</th>\n",
              "      <td>0.484713</td>\n",
              "    </tr>\n",
              "    <tr>\n",
              "      <th>min</th>\n",
              "      <td>0.000000</td>\n",
              "    </tr>\n",
              "    <tr>\n",
              "      <th>25%</th>\n",
              "      <td>0.000000</td>\n",
              "    </tr>\n",
              "    <tr>\n",
              "      <th>50%</th>\n",
              "      <td>1.000000</td>\n",
              "    </tr>\n",
              "    <tr>\n",
              "      <th>75%</th>\n",
              "      <td>1.000000</td>\n",
              "    </tr>\n",
              "    <tr>\n",
              "      <th>max</th>\n",
              "      <td>1.000000</td>\n",
              "    </tr>\n",
              "  </tbody>\n",
              "</table>\n",
              "</div>"
            ],
            "text/plain": [
              "             label\n",
              "count  1280.000000\n",
              "mean      0.623437\n",
              "std       0.484713\n",
              "min       0.000000\n",
              "25%       0.000000\n",
              "50%       1.000000\n",
              "75%       1.000000\n",
              "max       1.000000"
            ]
          },
          "metadata": {},
          "execution_count": 33
        }
      ]
    },
    {
      "cell_type": "code",
      "metadata": {
        "id": "OYdVY-1vCtV6"
      },
      "source": [
        "df=pd.concat([train_df,test],axis=0,)"
      ],
      "execution_count": null,
      "outputs": []
    },
    {
      "cell_type": "code",
      "metadata": {
        "id": "dRfZd9V4Cxmb"
      },
      "source": [
        "df.reset_index(inplace=True)"
      ],
      "execution_count": null,
      "outputs": []
    },
    {
      "cell_type": "code",
      "metadata": {
        "id": "k3KU_AMU8Llh"
      },
      "source": [
        "from sklearn.feature_extraction.text import TfidfVectorizer\n",
        "from sklearn.model_selection import train_test_split\n",
        "from sklearn.linear_model import LogisticRegression\n",
        "from sklearn.metrics import classification_report\n",
        "from sklearn.preprocessing import LabelEncoder\n",
        "\n",
        "from tensorflow.keras import Sequential\n",
        "from tensorflow.keras.layers import Dense, Dropout"
      ],
      "execution_count": null,
      "outputs": []
    },
    {
      "cell_type": "code",
      "metadata": {
        "id": "yKxKX6kL7gOj"
      },
      "source": [
        "tweets = df.tweet\n",
        "y = df.label\n",
        "cleaned_tweets = [tweet for tweet in tweets]\n",
        "vectorizer = TfidfVectorizer(min_df=5)\n",
        "X = vectorizer.fit_transform(cleaned_tweets)\n",
        "X = X.todense()"
      ],
      "execution_count": null,
      "outputs": []
    },
    {
      "cell_type": "code",
      "metadata": {
        "id": "9Tk-4dWNDxLN"
      },
      "source": [
        "x_train, X_val, y_train, y_val = train_test_split(X, y, test_size=0.0164401859796, shuffle=False)"
      ],
      "execution_count": null,
      "outputs": []
    },
    {
      "cell_type": "code",
      "metadata": {
        "id": "iG_efM1kHCOW"
      },
      "source": [
        "del train_df\n",
        "del test\n",
        "del X\n",
        "del y\n",
        "del tweets\n",
        "del cleaned_tweets"
      ],
      "execution_count": null,
      "outputs": []
    },
    {
      "cell_type": "code",
      "metadata": {
        "colab": {
          "base_uri": "https://localhost:8080/"
        },
        "id": "lLWMTAHmqb3N",
        "outputId": "cd14cbe3-e140-4ab5-90bf-07a95f40cabb"
      },
      "source": [
        "#NB\n",
        "from sklearn.naive_bayes import MultinomialNB\n",
        "mnb = MultinomialNB().fit(x_train, y_train)\n",
        "y_pred1 = mnb.predict(X_val)\n",
        "print(\"NB\\n\"+classification_report(y_val, y_pred1)+\"\\n\")"
      ],
      "execution_count": null,
      "outputs": [
        {
          "output_type": "stream",
          "name": "stdout",
          "text": [
            "NB\n",
            "              precision    recall  f1-score   support\n",
            "\n",
            "           0       0.65      0.66      0.65       482\n",
            "           1       0.79      0.79      0.79       798\n",
            "\n",
            "    accuracy                           0.74      1280\n",
            "   macro avg       0.72      0.72      0.72      1280\n",
            "weighted avg       0.74      0.74      0.74      1280\n",
            "\n",
            "\n"
          ]
        }
      ]
    },
    {
      "cell_type": "code",
      "metadata": {
        "colab": {
          "base_uri": "https://localhost:8080/"
        },
        "id": "kPaHAl4rFgFZ",
        "outputId": "f91aeba0-e367-49ba-c85f-b88c56af50a6"
      },
      "source": [
        "#LR\n",
        "from sklearn.linear_model import LogisticRegression\n",
        "lr=LogisticRegression(max_iter=1000)\n",
        "lr.fit(x_train, y_train)\n",
        "y_pred2 = lr.predict(X_val)\n",
        "print(\"LR\\n\"+classification_report(y_val, y_pred2)+\"\\n\")"
      ],
      "execution_count": null,
      "outputs": [
        {
          "output_type": "stream",
          "name": "stdout",
          "text": [
            "LR\n",
            "              precision    recall  f1-score   support\n",
            "\n",
            "           0       0.71      0.64      0.67       482\n",
            "           1       0.80      0.84      0.82       798\n",
            "\n",
            "    accuracy                           0.77      1280\n",
            "   macro avg       0.75      0.74      0.75      1280\n",
            "weighted avg       0.76      0.77      0.76      1280\n",
            "\n",
            "\n"
          ]
        }
      ]
    },
    {
      "cell_type": "code",
      "metadata": {
        "colab": {
          "base_uri": "https://localhost:8080/"
        },
        "id": "S4T4WkXPFgjX",
        "outputId": "48bb6432-80aa-4c7b-e408-9a8988b6ca0d"
      },
      "source": [
        "#Kneighbours\n",
        "from sklearn.neighbors import KNeighborsClassifier\n",
        "knn = KNeighborsClassifier(algorithm = 'brute', n_jobs=-1)\n",
        "knn.fit(x_train, y_train)\n",
        "y_pred3 = knn.predict(X_val)\n",
        "print(\"KNN\\n\"+classification_report(y_val, y_pred3)+\"\\n\")"
      ],
      "execution_count": null,
      "outputs": [
        {
          "output_type": "stream",
          "name": "stdout",
          "text": [
            "KNN\n",
            "              precision    recall  f1-score   support\n",
            "\n",
            "           0       0.41      0.89      0.56       482\n",
            "           1       0.78      0.23      0.35       798\n",
            "\n",
            "    accuracy                           0.48      1280\n",
            "   macro avg       0.59      0.56      0.46      1280\n",
            "weighted avg       0.64      0.48      0.43      1280\n",
            "\n",
            "\n"
          ]
        }
      ]
    },
    {
      "cell_type": "code",
      "metadata": {
        "colab": {
          "base_uri": "https://localhost:8080/"
        },
        "id": "muKnJB2VFgy2",
        "outputId": "b60c9a89-8ecd-4315-be2b-3c40d37586a1"
      },
      "source": [
        "#SVM\n",
        "from sklearn.svm import LinearSVC\n",
        "svm=LinearSVC()\n",
        "svm.fit(x_train, y_train)\n",
        "y_pred4 = svm.predict(X_val)\n",
        "print(\"SVM\\n\"+classification_report(y_val, y_pred4)+\"\\n\")"
      ],
      "execution_count": null,
      "outputs": [
        {
          "output_type": "stream",
          "name": "stdout",
          "text": [
            "SVM\n",
            "              precision    recall  f1-score   support\n",
            "\n",
            "           0       0.68      0.62      0.64       482\n",
            "           1       0.78      0.82      0.80       798\n",
            "\n",
            "    accuracy                           0.74      1280\n",
            "   macro avg       0.73      0.72      0.72      1280\n",
            "weighted avg       0.74      0.74      0.74      1280\n",
            "\n",
            "\n"
          ]
        }
      ]
    },
    {
      "cell_type": "code",
      "metadata": {
        "colab": {
          "base_uri": "https://localhost:8080/"
        },
        "id": "8jOOQlacFlm2",
        "outputId": "975a8f38-7725-4c4b-fddd-2a5401ad5444"
      },
      "source": [
        "#DT\n",
        "from sklearn.tree import DecisionTreeClassifier\n",
        "clf = DecisionTreeClassifier()\n",
        "clf.fit(x_train, y_train)\n",
        "y_pred5 = clf.predict(X_val)\n",
        "print(\"DT\\n\"+classification_report(y_val, y_pred5)+\"\\n\")"
      ],
      "execution_count": null,
      "outputs": [
        {
          "output_type": "stream",
          "name": "stdout",
          "text": [
            "DT\n",
            "              precision    recall  f1-score   support\n",
            "\n",
            "           0       0.59      0.54      0.57       482\n",
            "           1       0.74      0.78      0.76       798\n",
            "\n",
            "    accuracy                           0.69      1280\n",
            "   macro avg       0.67      0.66      0.66      1280\n",
            "weighted avg       0.68      0.69      0.68      1280\n",
            "\n",
            "\n"
          ]
        }
      ]
    },
    {
      "cell_type": "code",
      "metadata": {
        "colab": {
          "base_uri": "https://localhost:8080/"
        },
        "id": "bhqMoXEwFlxr",
        "outputId": "a48c42fb-4fdd-4b74-96af-612339672be0"
      },
      "source": [
        "#Bagging\n",
        "from sklearn.ensemble import BaggingClassifier\n",
        "bg=BaggingClassifier(DecisionTreeClassifier(),max_samples=0.5,max_features=1.0,n_estimators=10)\n",
        "bg.fit(x_train, y_train)\n",
        "y_pred6 = bg.predict(X_val)\n",
        "print(\"Bag\\n\"+classification_report(y_val, y_pred6)+\"\\n\")"
      ],
      "execution_count": null,
      "outputs": [
        {
          "output_type": "stream",
          "name": "stdout",
          "text": [
            "Bag\n",
            "              precision    recall  f1-score   support\n",
            "\n",
            "           0       0.64      0.60      0.62       482\n",
            "           1       0.77      0.80      0.78       798\n",
            "\n",
            "    accuracy                           0.72      1280\n",
            "   macro avg       0.71      0.70      0.70      1280\n",
            "weighted avg       0.72      0.72      0.72      1280\n",
            "\n",
            "\n"
          ]
        }
      ]
    },
    {
      "cell_type": "code",
      "metadata": {
        "colab": {
          "base_uri": "https://localhost:8080/"
        },
        "id": "heNdnwBWFl__",
        "outputId": "af256a06-3bfe-451f-ef42-41b92c44f57a"
      },
      "source": [
        "#adaboost\n",
        "from sklearn.ensemble import AdaBoostClassifier\n",
        "adb = AdaBoostClassifier(DecisionTreeClassifier(min_samples_split=10,max_depth=4),n_estimators=10,learning_rate=0.6)\n",
        "adb.fit(x_train, y_train)\n",
        "y_pred7 = adb.predict(X_val)\n",
        "print(\"Ada\\n\"+classification_report(y_val, y_pred7)+\"\\n\")"
      ],
      "execution_count": null,
      "outputs": [
        {
          "output_type": "stream",
          "name": "stdout",
          "text": [
            "Ada\n",
            "              precision    recall  f1-score   support\n",
            "\n",
            "           0       0.51      0.70      0.59       482\n",
            "           1       0.76      0.59      0.67       798\n",
            "\n",
            "    accuracy                           0.63      1280\n",
            "   macro avg       0.64      0.64      0.63      1280\n",
            "weighted avg       0.67      0.63      0.64      1280\n",
            "\n",
            "\n"
          ]
        }
      ]
    },
    {
      "cell_type": "code",
      "metadata": {
        "colab": {
          "base_uri": "https://localhost:8080/"
        },
        "id": "1X3c6q-3FmLc",
        "outputId": "134b5cdd-2291-45fe-a0c7-ec90fa9cf07b"
      },
      "source": [
        "#rf\n",
        "from sklearn.ensemble import RandomForestClassifier# n_estimators = number of decision trees\n",
        "rf = RandomForestClassifier(n_estimators=30, max_depth=9)\n",
        "rf.fit(x_train, y_train)\n",
        "y_pred8 = rf.predict(X_val)\n",
        "print(\"RF\\n\"+classification_report(y_val, y_pred8)+\"\\n\")"
      ],
      "execution_count": null,
      "outputs": [
        {
          "output_type": "stream",
          "name": "stdout",
          "text": [
            "RF\n",
            "              precision    recall  f1-score   support\n",
            "\n",
            "           0       0.85      0.23      0.36       482\n",
            "           1       0.68      0.97      0.80       798\n",
            "\n",
            "    accuracy                           0.69      1280\n",
            "   macro avg       0.76      0.60      0.58      1280\n",
            "weighted avg       0.74      0.69      0.63      1280\n",
            "\n",
            "\n"
          ]
        }
      ]
    },
    {
      "cell_type": "code",
      "metadata": {
        "colab": {
          "base_uri": "https://localhost:8080/"
        },
        "id": "IrxmAgawFmYQ",
        "outputId": "657396ae-fb14-4284-e4a6-a929e9385165"
      },
      "source": [
        "#voting\n",
        "from sklearn.ensemble import VotingClassifier\n",
        "evc=VotingClassifier(estimators=[('mnb',mnb),('lr',lr),('rf',rf),('svm',svm)],voting='hard')\n",
        "evc.fit(x_train, y_train)\n",
        "y_pred9 = evc.predict(X_val)\n",
        "print(\"Vote\\n\"+classification_report(y_val, y_pred9)+\"\\n\")"
      ],
      "execution_count": null,
      "outputs": [
        {
          "output_type": "stream",
          "name": "stdout",
          "text": [
            "Vote\n",
            "              precision    recall  f1-score   support\n",
            "\n",
            "           0       0.68      0.65      0.67       482\n",
            "           1       0.79      0.82      0.81       798\n",
            "\n",
            "    accuracy                           0.75      1280\n",
            "   macro avg       0.74      0.73      0.74      1280\n",
            "weighted avg       0.75      0.75      0.75      1280\n",
            "\n",
            "\n"
          ]
        }
      ]
    }
  ]
}