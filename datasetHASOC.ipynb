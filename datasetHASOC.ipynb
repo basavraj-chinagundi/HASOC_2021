{
  "nbformat": 4,
  "nbformat_minor": 0,
  "metadata": {
    "colab": {
      "name": "datasetHASOC.ipynb",
      "provenance": []
    },
    "kernelspec": {
      "name": "python3",
      "display_name": "Python 3"
    },
    "language_info": {
      "name": "python"
    }
  },
  "cells": [
    {
      "cell_type": "code",
      "metadata": {
        "colab": {
          "base_uri": "https://localhost:8080/"
        },
        "id": "n_b5XJ-kkAnE",
        "outputId": "8b76b4c1-497f-4bef-c85a-95d1e5003c15"
      },
      "source": [
        "from google.colab import drive\n",
        "drive.mount('/content/drive')"
      ],
      "execution_count": null,
      "outputs": [
        {
          "output_type": "stream",
          "text": [
            "Mounted at /content/drive\n"
          ],
          "name": "stdout"
        }
      ]
    },
    {
      "cell_type": "markdown",
      "metadata": {
        "id": "ugUQ2AK1kV7x"
      },
      "source": [
        "TEMPORARY"
      ]
    },
    {
      "cell_type": "code",
      "metadata": {
        "id": "hYXldEajkHVf"
      },
      "source": [
        "import pandas as pd\n",
        "hsol=pd.read_csv('/content/drive/MyDrive/Workspace/NLE/DATASETS/HSOL/hsol.csv')"
      ],
      "execution_count": null,
      "outputs": []
    },
    {
      "cell_type": "code",
      "metadata": {
        "colab": {
          "base_uri": "https://localhost:8080/"
        },
        "id": "-oFG-1G4kY0g",
        "outputId": "b8d3bfc0-4539-4022-d235-b73c15371a51"
      },
      "source": [
        "hsol=hsol[['tweet','class']]\n",
        "hsol.columns = [\"tweet\", \"label\"]\n",
        "hsol.label =hsol.label.replace({0: 1,2:0})\n",
        "hsol['label'].value_counts() "
      ],
      "execution_count": null,
      "outputs": [
        {
          "output_type": "stream",
          "text": [
            "/usr/local/lib/python3.7/dist-packages/pandas/core/generic.py:5170: SettingWithCopyWarning: \n",
            "A value is trying to be set on a copy of a slice from a DataFrame.\n",
            "Try using .loc[row_indexer,col_indexer] = value instead\n",
            "\n",
            "See the caveats in the documentation: https://pandas.pydata.org/pandas-docs/stable/user_guide/indexing.html#returning-a-view-versus-a-copy\n",
            "  self[name] = value\n"
          ],
          "name": "stderr"
        },
        {
          "output_type": "execute_result",
          "data": {
            "text/plain": [
              "1    20620\n",
              "0     4163\n",
              "Name: label, dtype: int64"
            ]
          },
          "metadata": {},
          "execution_count": 4
        }
      ]
    },
    {
      "cell_type": "code",
      "metadata": {
        "colab": {
          "base_uri": "https://localhost:8080/"
        },
        "id": "xg2uzG-gkqfy",
        "outputId": "3bb6d7aa-688b-409b-cf05-43b45fa26f80"
      },
      "source": [
        "olid=pd.read_csv('/content/drive/MyDrive/Workspace/NLE/DATASETS/OLID/olid-training-v1.0.tsv', sep='\\t', header=0)\n",
        "olid=olid[['tweet','subtask_a']]\n",
        "olid.columns = [\"tweet\", \"label\"]\n",
        "olid.label =olid.label.replace({\"OFF\": 1,\"NOT\":0})\n",
        "olid['label'].value_counts() #"
      ],
      "execution_count": null,
      "outputs": [
        {
          "output_type": "execute_result",
          "data": {
            "text/plain": [
              "0    8840\n",
              "1    4400\n",
              "Name: label, dtype: int64"
            ]
          },
          "metadata": {},
          "execution_count": 6
        }
      ]
    },
    {
      "cell_type": "code",
      "metadata": {
        "colab": {
          "base_uri": "https://localhost:8080/"
        },
        "id": "s_E7dYdHk0ev",
        "outputId": "aecf8a4f-c7de-4790-aaba-7ad8f06a6054"
      },
      "source": [
        "olid2=pd.read_csv('/content/drive/MyDrive/Workspace/NLE/DATASETS/OLID/testset-levela.tsv', sep='\\t', header=0)\n",
        "o2=pd.read_csv('/content/drive/MyDrive/Workspace/NLE/DATASETS/OLID/labels-levela.csv',header=None)\n",
        "new=pd.concat([olid2,o2],axis=1)\n",
        "new=new[['tweet',1]]\n",
        "new.columns=['tweet','label']\n",
        "new.label=new.label.replace({\"OFF\":1,\"NOT\":0})\n",
        "new['label'].value_counts() #"
      ],
      "execution_count": null,
      "outputs": [
        {
          "output_type": "execute_result",
          "data": {
            "text/plain": [
              "0    620\n",
              "1    240\n",
              "Name: label, dtype: int64"
            ]
          },
          "metadata": {},
          "execution_count": 7
        }
      ]
    },
    {
      "cell_type": "code",
      "metadata": {
        "colab": {
          "base_uri": "https://localhost:8080/"
        },
        "id": "p6BtKa3Rk9Zv",
        "outputId": "a4ac8fc0-495c-4dcc-99c0-e8f356c5f414"
      },
      "source": [
        "ethos=pd.read_csv('/content/drive/MyDrive/Workspace/NLE/DATASETS/ethos/ethos_binary.csv')\n",
        "ethos.columns = [\"tweet\", \"label\"] #1:hate 0:no hate\n",
        "ethos['label'].value_counts()"
      ],
      "execution_count": null,
      "outputs": [
        {
          "output_type": "execute_result",
          "data": {
            "text/plain": [
              "0    565\n",
              "1    433\n",
              "Name: label, dtype: int64"
            ]
          },
          "metadata": {},
          "execution_count": 8
        }
      ]
    },
    {
      "cell_type": "markdown",
      "metadata": {
        "id": "EPXMxttIlG2p"
      },
      "source": [
        "hasoc"
      ]
    },
    {
      "cell_type": "code",
      "metadata": {
        "colab": {
          "base_uri": "https://localhost:8080/"
        },
        "id": "5wtOxINzlGTf",
        "outputId": "c2e3212a-b40d-4cd9-90b6-866f1271f96a"
      },
      "source": [
        "hasoc2019=pd.read_csv('/content/drive/MyDrive/Workspace/NLE/hasoc2k19/english_dataset.tsv', sep='\\t', header=0)\n",
        "hasoc2019=hasoc2019[['text','task_1']]\n",
        "hasoc2019.columns=['tweet','label']\n",
        "hasoc2019.label=hasoc2019.label.replace({\"NOT\":0,\"HOF\":1})\n",
        "hasoc2019['label'].value_counts()"
      ],
      "execution_count": null,
      "outputs": [
        {
          "output_type": "execute_result",
          "data": {
            "text/plain": [
              "0    3591\n",
              "1    2261\n",
              "Name: label, dtype: int64"
            ]
          },
          "metadata": {},
          "execution_count": 11
        }
      ]
    },
    {
      "cell_type": "code",
      "metadata": {
        "colab": {
          "base_uri": "https://localhost:8080/"
        },
        "id": "VdGOQNwBlOrX",
        "outputId": "fba05da6-4db8-4205-b1b6-a8955d40fd42"
      },
      "source": [
        "hasoc2021=pd.read_csv('/content/drive/MyDrive/Workspace/hasoc/hasoc2021/train.csv')\n",
        "hasoc2021=hasoc2021[['text','task_1']]\n",
        "hasoc2021.columns=['tweet','label']\n",
        "hasoc2021.label=hasoc2021.label.replace({\"NOT\":0,\"HOF\":1})\n",
        "hasoc2021['label'].value_counts()"
      ],
      "execution_count": null,
      "outputs": [
        {
          "output_type": "execute_result",
          "data": {
            "text/plain": [
              "1    2501\n",
              "0    1342\n",
              "Name: label, dtype: int64"
            ]
          },
          "metadata": {},
          "execution_count": 12
        }
      ]
    },
    {
      "cell_type": "markdown",
      "metadata": {
        "id": "1iER87b3lblA"
      },
      "source": [
        "special dset"
      ]
    },
    {
      "cell_type": "code",
      "metadata": {
        "id": "b8fTFeuYlXT2"
      },
      "source": [
        "train1=pd.concat([hsol,olid,new,ethos,hasoc2019,hasoc2021],axis=0,ignore_index=True) #withall"
      ],
      "execution_count": null,
      "outputs": []
    },
    {
      "cell_type": "code",
      "metadata": {
        "colab": {
          "base_uri": "https://localhost:8080/",
          "height": 419
        },
        "id": "17rUCGs4llSA",
        "outputId": "04dfa0fe-1946-411a-dd2a-92af4f0989c8"
      },
      "source": [
        "train1"
      ],
      "execution_count": null,
      "outputs": [
        {
          "output_type": "execute_result",
          "data": {
            "text/html": [
              "<div>\n",
              "<style scoped>\n",
              "    .dataframe tbody tr th:only-of-type {\n",
              "        vertical-align: middle;\n",
              "    }\n",
              "\n",
              "    .dataframe tbody tr th {\n",
              "        vertical-align: top;\n",
              "    }\n",
              "\n",
              "    .dataframe thead th {\n",
              "        text-align: right;\n",
              "    }\n",
              "</style>\n",
              "<table border=\"1\" class=\"dataframe\">\n",
              "  <thead>\n",
              "    <tr style=\"text-align: right;\">\n",
              "      <th></th>\n",
              "      <th>tweet</th>\n",
              "      <th>label</th>\n",
              "    </tr>\n",
              "  </thead>\n",
              "  <tbody>\n",
              "    <tr>\n",
              "      <th>0</th>\n",
              "      <td>!!! RT @mayasolovely: As a woman you shouldn't...</td>\n",
              "      <td>0</td>\n",
              "    </tr>\n",
              "    <tr>\n",
              "      <th>1</th>\n",
              "      <td>!!!!! RT @mleew17: boy dats cold...tyga dwn ba...</td>\n",
              "      <td>1</td>\n",
              "    </tr>\n",
              "    <tr>\n",
              "      <th>2</th>\n",
              "      <td>!!!!!!! RT @UrKindOfBrand Dawg!!!! RT @80sbaby...</td>\n",
              "      <td>1</td>\n",
              "    </tr>\n",
              "    <tr>\n",
              "      <th>3</th>\n",
              "      <td>!!!!!!!!! RT @C_G_Anderson: @viva_based she lo...</td>\n",
              "      <td>1</td>\n",
              "    </tr>\n",
              "    <tr>\n",
              "      <th>4</th>\n",
              "      <td>!!!!!!!!!!!!! RT @ShenikaRoberts: The shit you...</td>\n",
              "      <td>1</td>\n",
              "    </tr>\n",
              "    <tr>\n",
              "      <th>...</th>\n",
              "      <td>...</td>\n",
              "      <td>...</td>\n",
              "    </tr>\n",
              "    <tr>\n",
              "      <th>49571</th>\n",
              "      <td>@BBCNews Let the dog deal with the wanker once...</td>\n",
              "      <td>1</td>\n",
              "    </tr>\n",
              "    <tr>\n",
              "      <th>49572</th>\n",
              "      <td>India has suffered a lot. That Chinese bastard...</td>\n",
              "      <td>1</td>\n",
              "    </tr>\n",
              "    <tr>\n",
              "      <th>49573</th>\n",
              "      <td>People didn't give 300+ seats majority to BJP ...</td>\n",
              "      <td>1</td>\n",
              "    </tr>\n",
              "    <tr>\n",
              "      <th>49574</th>\n",
              "      <td>@KanganaTeam This is such a vile, xenophobic a...</td>\n",
              "      <td>1</td>\n",
              "    </tr>\n",
              "    <tr>\n",
              "      <th>49575</th>\n",
              "      <td>@30iPpgStmILw0SI @ChinaDaily #ChineseVirus #Wu...</td>\n",
              "      <td>0</td>\n",
              "    </tr>\n",
              "  </tbody>\n",
              "</table>\n",
              "<p>49576 rows × 2 columns</p>\n",
              "</div>"
            ],
            "text/plain": [
              "                                                   tweet  label\n",
              "0      !!! RT @mayasolovely: As a woman you shouldn't...      0\n",
              "1      !!!!! RT @mleew17: boy dats cold...tyga dwn ba...      1\n",
              "2      !!!!!!! RT @UrKindOfBrand Dawg!!!! RT @80sbaby...      1\n",
              "3      !!!!!!!!! RT @C_G_Anderson: @viva_based she lo...      1\n",
              "4      !!!!!!!!!!!!! RT @ShenikaRoberts: The shit you...      1\n",
              "...                                                  ...    ...\n",
              "49571  @BBCNews Let the dog deal with the wanker once...      1\n",
              "49572  India has suffered a lot. That Chinese bastard...      1\n",
              "49573  People didn't give 300+ seats majority to BJP ...      1\n",
              "49574  @KanganaTeam This is such a vile, xenophobic a...      1\n",
              "49575  @30iPpgStmILw0SI @ChinaDaily #ChineseVirus #Wu...      0\n",
              "\n",
              "[49576 rows x 2 columns]"
            ]
          },
          "metadata": {},
          "execution_count": 14
        }
      ]
    },
    {
      "cell_type": "code",
      "metadata": {
        "id": "79dZRhN-lmQF"
      },
      "source": [
        "train2=pd.concat([hasoc2019,hasoc2021],axis=0,ignore_index=True) #withjusthasoc"
      ],
      "execution_count": null,
      "outputs": []
    },
    {
      "cell_type": "code",
      "metadata": {
        "colab": {
          "base_uri": "https://localhost:8080/",
          "height": 419
        },
        "id": "M-Txr4jslwxx",
        "outputId": "8ac408ba-fa1c-4414-8674-b2ccf93229a5"
      },
      "source": [
        "train2"
      ],
      "execution_count": null,
      "outputs": [
        {
          "output_type": "execute_result",
          "data": {
            "text/html": [
              "<div>\n",
              "<style scoped>\n",
              "    .dataframe tbody tr th:only-of-type {\n",
              "        vertical-align: middle;\n",
              "    }\n",
              "\n",
              "    .dataframe tbody tr th {\n",
              "        vertical-align: top;\n",
              "    }\n",
              "\n",
              "    .dataframe thead th {\n",
              "        text-align: right;\n",
              "    }\n",
              "</style>\n",
              "<table border=\"1\" class=\"dataframe\">\n",
              "  <thead>\n",
              "    <tr style=\"text-align: right;\">\n",
              "      <th></th>\n",
              "      <th>tweet</th>\n",
              "      <th>label</th>\n",
              "    </tr>\n",
              "  </thead>\n",
              "  <tbody>\n",
              "    <tr>\n",
              "      <th>0</th>\n",
              "      <td>#DhoniKeepsTheGlove | WATCH: Sports Minister K...</td>\n",
              "      <td>0</td>\n",
              "    </tr>\n",
              "    <tr>\n",
              "      <th>1</th>\n",
              "      <td>@politico No. We should remember very clearly ...</td>\n",
              "      <td>1</td>\n",
              "    </tr>\n",
              "    <tr>\n",
              "      <th>2</th>\n",
              "      <td>@cricketworldcup Guess who would be the winner...</td>\n",
              "      <td>0</td>\n",
              "    </tr>\n",
              "    <tr>\n",
              "      <th>3</th>\n",
              "      <td>Corbyn is too politically intellectual for #Bo...</td>\n",
              "      <td>0</td>\n",
              "    </tr>\n",
              "    <tr>\n",
              "      <th>4</th>\n",
              "      <td>All the best to #TeamIndia for another swimmin...</td>\n",
              "      <td>0</td>\n",
              "    </tr>\n",
              "    <tr>\n",
              "      <th>...</th>\n",
              "      <td>...</td>\n",
              "      <td>...</td>\n",
              "    </tr>\n",
              "    <tr>\n",
              "      <th>9690</th>\n",
              "      <td>@BBCNews Let the dog deal with the wanker once...</td>\n",
              "      <td>1</td>\n",
              "    </tr>\n",
              "    <tr>\n",
              "      <th>9691</th>\n",
              "      <td>India has suffered a lot. That Chinese bastard...</td>\n",
              "      <td>1</td>\n",
              "    </tr>\n",
              "    <tr>\n",
              "      <th>9692</th>\n",
              "      <td>People didn't give 300+ seats majority to BJP ...</td>\n",
              "      <td>1</td>\n",
              "    </tr>\n",
              "    <tr>\n",
              "      <th>9693</th>\n",
              "      <td>@KanganaTeam This is such a vile, xenophobic a...</td>\n",
              "      <td>1</td>\n",
              "    </tr>\n",
              "    <tr>\n",
              "      <th>9694</th>\n",
              "      <td>@30iPpgStmILw0SI @ChinaDaily #ChineseVirus #Wu...</td>\n",
              "      <td>0</td>\n",
              "    </tr>\n",
              "  </tbody>\n",
              "</table>\n",
              "<p>9695 rows × 2 columns</p>\n",
              "</div>"
            ],
            "text/plain": [
              "                                                  tweet  label\n",
              "0     #DhoniKeepsTheGlove | WATCH: Sports Minister K...      0\n",
              "1     @politico No. We should remember very clearly ...      1\n",
              "2     @cricketworldcup Guess who would be the winner...      0\n",
              "3     Corbyn is too politically intellectual for #Bo...      0\n",
              "4     All the best to #TeamIndia for another swimmin...      0\n",
              "...                                                 ...    ...\n",
              "9690  @BBCNews Let the dog deal with the wanker once...      1\n",
              "9691  India has suffered a lot. That Chinese bastard...      1\n",
              "9692  People didn't give 300+ seats majority to BJP ...      1\n",
              "9693  @KanganaTeam This is such a vile, xenophobic a...      1\n",
              "9694  @30iPpgStmILw0SI @ChinaDaily #ChineseVirus #Wu...      0\n",
              "\n",
              "[9695 rows x 2 columns]"
            ]
          },
          "metadata": {},
          "execution_count": 16
        }
      ]
    },
    {
      "cell_type": "code",
      "metadata": {
        "colab": {
          "base_uri": "https://localhost:8080/"
        },
        "id": "naJwC2VIlxjS",
        "outputId": "cb379405-716b-42a7-d25e-64b56d805b27"
      },
      "source": [
        "!pip install wordsegment\n",
        "from collections import OrderedDict\n",
        "import re\n",
        "from wordsegment import load, segment\n",
        "import numpy as np\n",
        "load()\n",
        "def hash_preprocessing(s):\n",
        "    s=re.findall(r'\\B#\\w*[a-zA-Z]+\\w*', s)\n",
        "    return s\n",
        "\n",
        "def hash_fix(h):\n",
        "    h1 = re.sub(r'[0-9]+', '', h)\n",
        "    h2 = re.sub(r'#', '', h1)\n",
        "    h3 = segment(str(h2))\n",
        "    h4 = ' '.join(map(str, h3)) \n",
        "    return h4\n",
        "\n",
        "def hash_dict(df,hash_col):\n",
        "    # Create a datafame of all hashtags in a column and their counts\n",
        "    # Note: hashtags are in lists inside a cell e.g. [#hash1, #hash2] \n",
        "    tag_counts = df[hash_col].apply(pd.Series).stack().value_counts().to_frame()\n",
        "    tag_counts = tag_counts.reset_index()\n",
        "    tag_counts.columns = ['hash','freq']\n",
        "    # Remove numbers and segment multiple words using hash fix\n",
        "    tag_counts = tag_counts.assign(clean_tag = tag_counts.hash.apply(lambda x: hash_fix(x)))\n",
        "    # Create a dictionary of the hashtags and their clean strings\n",
        "    tag_counts.set_index('hash', inplace=True)\n",
        "    tag_dict = tag_counts['clean_tag'].to_dict()\n",
        "    return tag_dict\n",
        "\n",
        "def featureExtractor(df):\n",
        "    # b = df['tweet'].astype(str)\n",
        "    # # c = df['abstract_text'].astype(str)\n",
        "    # df['tweet']=b\n",
        "    f_df=df[['tweet','label']]\n",
        "    # L=len(f_df)\n",
        "    # l1=int(L/4)\n",
        "    # l2=int(L/2)\n",
        "    # l3=int(3*L/2)\n",
        "    # df1,df2,df3,df4=f_df[:l1],f_df[l1:l2],f_df[l2:l3],f_df[l3:]\n",
        "    # df1['features'] = (df1['features'].str.split().apply(lambda x: OrderedDict.fromkeys(x).keys()).str.join(' '))\n",
        "    # df2['features'] = (df2['features'].str.split().apply(lambda x: OrderedDict.fromkeys(x).keys()).str.join(' '))\n",
        "    # df3['features'] = (df3['features'].str.split().apply(lambda x: OrderedDict.fromkeys(x).keys()).str.join(' '))\n",
        "    # df4['features'] = (df4['features'].str.split().apply(lambda x: OrderedDict.fromkeys(x).keys()).str.join(' '))\n",
        "    final=f_df\n",
        "    # final = pd.concat([df1, df2,df3,df4], ignore_index=True)\n",
        "    final['tweet']=final['tweet']. str.lower()\n",
        "    hash_preprocessed = np.array([hash_preprocessing(text) for text in final['tweet']])\n",
        "    hashtags=pd.DataFrame(hash_preprocessed)\n",
        "    tag_dict = hash_dict(hashtags,0)\n",
        "    final['tweet']=final['tweet'].replace(tag_dict, regex=True)\n",
        "    final['tweet']=final['tweet'].str.replace(\"https\\S+\", \" \")\n",
        "    final['tweet']=final['tweet'].str.replace(\"rt @[A-Za-z0-9_]+\",\"\")\n",
        "    final['tweet']=final['tweet'].str.replace(\"@[A-Za-z0-9_]+\",\"\")\n",
        "    final['tweet']=final['tweet'].str.replace(\"[^a-zA-Z0-9,.'*’?]\", \" \")\n",
        "    final['tweet']=final['tweet'].str.replace('url', \"\")\n",
        "    final['tweet']=final['tweet'].str.replace('\\n', \"\")\n",
        "    # final['tweet'] =final['tweet'] .apply(lambda x: re.sub(r'\\b\\w{1,1}\\b', '', x))\n",
        "      \n",
        "    # final['tweet']= (final['tweet'].str.split().apply(lambda x: OrderedDict.fromkeys(x).keys()).str.join(' '))\n",
        "    final['tweet']=final['tweet'].apply(lambda x: \" \".join(x.split()))\n",
        "    \n",
        "\n",
        "    return final"
      ],
      "execution_count": null,
      "outputs": [
        {
          "output_type": "stream",
          "text": [
            "Collecting wordsegment\n",
            "  Downloading wordsegment-1.3.1-py2.py3-none-any.whl (4.8 MB)\n",
            "\u001b[K     |████████████████████████████████| 4.8 MB 10.8 MB/s \n",
            "\u001b[?25hInstalling collected packages: wordsegment\n",
            "Successfully installed wordsegment-1.3.1\n"
          ],
          "name": "stdout"
        }
      ]
    },
    {
      "cell_type": "code",
      "metadata": {
        "colab": {
          "base_uri": "https://localhost:8080/"
        },
        "id": "bCsRhf0Ml9rL",
        "outputId": "6679f54b-bd30-4177-ca60-7b242c752a68"
      },
      "source": [
        "d1=featureExtractor(train1)"
      ],
      "execution_count": null,
      "outputs": [
        {
          "output_type": "stream",
          "text": [
            "/usr/local/lib/python3.7/dist-packages/ipykernel_launcher.py:48: VisibleDeprecationWarning: Creating an ndarray from ragged nested sequences (which is a list-or-tuple of lists-or-tuples-or ndarrays with different lengths or shapes) is deprecated. If you meant to do this, you must specify 'dtype=object' when creating the ndarray\n"
          ],
          "name": "stderr"
        }
      ]
    },
    {
      "cell_type": "code",
      "metadata": {
        "colab": {
          "base_uri": "https://localhost:8080/"
        },
        "id": "3FplFn_8mAk2",
        "outputId": "a7905e50-64f8-44d3-eb95-a8d15a61777b"
      },
      "source": [
        "d2=featureExtractor(train2)"
      ],
      "execution_count": null,
      "outputs": [
        {
          "output_type": "stream",
          "text": [
            "/usr/local/lib/python3.7/dist-packages/ipykernel_launcher.py:48: VisibleDeprecationWarning: Creating an ndarray from ragged nested sequences (which is a list-or-tuple of lists-or-tuples-or ndarrays with different lengths or shapes) is deprecated. If you meant to do this, you must specify 'dtype=object' when creating the ndarray\n"
          ],
          "name": "stderr"
        }
      ]
    },
    {
      "cell_type": "code",
      "metadata": {
        "id": "tBl_PUMxm2jz"
      },
      "source": [
        "d1.to_csv('/content/drive/MyDrive/Workspace/NLE/DATASETS/special/alltrain.csv',index=False)\n",
        "d2.to_csv('/content/drive/MyDrive/Workspace/NLE/DATASETS/special/onlyhasoctrain.csv',index=False)"
      ],
      "execution_count": null,
      "outputs": []
    },
    {
      "cell_type": "code",
      "metadata": {
        "colab": {
          "base_uri": "https://localhost:8080/"
        },
        "id": "URJzjrTend9G",
        "outputId": "df202f72-85da-4ec2-c572-b5556994fef6"
      },
      "source": [
        "d1['label'].value_counts()"
      ],
      "execution_count": null,
      "outputs": [
        {
          "output_type": "execute_result",
          "data": {
            "text/plain": [
              "1    30455\n",
              "0    19121\n",
              "Name: label, dtype: int64"
            ]
          },
          "metadata": {},
          "execution_count": 23
        }
      ]
    },
    {
      "cell_type": "code",
      "metadata": {
        "colab": {
          "base_uri": "https://localhost:8080/"
        },
        "id": "igo871-bpGib",
        "outputId": "8f257c87-a7ac-4d0d-ae0d-5df71ca0a739"
      },
      "source": [
        "d2['label'].value_counts()"
      ],
      "execution_count": null,
      "outputs": [
        {
          "output_type": "execute_result",
          "data": {
            "text/plain": [
              "0    4933\n",
              "1    4762\n",
              "Name: label, dtype: int64"
            ]
          },
          "metadata": {},
          "execution_count": 24
        }
      ]
    },
    {
      "cell_type": "code",
      "metadata": {
        "id": "_At3mNwqpHBj"
      },
      "source": [
        ""
      ],
      "execution_count": null,
      "outputs": []
    }
  ]
}